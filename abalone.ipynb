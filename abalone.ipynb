{
  "nbformat": 4,
  "nbformat_minor": 0,
  "metadata": {
    "colab": {
      "provenance": [],
      "collapsed_sections": []
    },
    "kernelspec": {
      "name": "python3",
      "display_name": "Python 3"
    },
    "language_info": {
      "name": "python"
    }
  },
  "cells": [
    {
      "cell_type": "markdown",
      "source": [
        "# (a) & (b) & (d) DNN Model\n",
        "\n"
      ],
      "metadata": {
        "id": "4H7FbwzMJGL0"
      }
    },
    {
      "cell_type": "code",
      "source": [
        "pip install keras-tuner --upgrade"
      ],
      "metadata": {
        "id": "7g9kVjuB8AkT"
      },
      "execution_count": null,
      "outputs": []
    },
    {
      "cell_type": "code",
      "source": [
        "# Import Liraries\n",
        "from numpy import unique\n",
        "from numpy import argmax\n",
        "from pandas import read_csv\n",
        "import pandas as pd\n",
        "from tensorflow.keras.models import Sequential\n",
        "from tensorflow.keras.layers import Dense\n",
        "from sklearn.metrics import accuracy_score\n",
        "from sklearn.model_selection import train_test_split\n",
        "from sklearn.preprocessing import LabelEncoder\n",
        "import keras_tuner as kt\n",
        "import tensorflow as tf\n",
        "import matplotlib.pyplot as plt"
      ],
      "metadata": {
        "id": "PahAFsfyvxnP"
      },
      "execution_count": 13,
      "outputs": []
    },
    {
      "cell_type": "code",
      "source": [
        "# Load Data \n",
        "url = 'https://archive.ics.uci.edu/ml/machine-learning-databases/abalone/abalone.data'\n",
        "dataframe = read_csv(url, header=None)\n",
        "dataset = dataframe.values"
      ],
      "metadata": {
        "id": "Ip8N9Ggfv10l"
      },
      "execution_count": 4,
      "outputs": []
    },
    {
      "cell_type": "code",
      "source": [
        "# Split Dataset\n",
        "X, y = dataset[:, 1:-1], dataset[:, -1]\n",
        "X, y = X.astype('float'), y.astype('float')\n",
        "n_features = X.shape[1]"
      ],
      "metadata": {
        "id": "mPMrrVknv5qm"
      },
      "execution_count": 5,
      "outputs": []
    },
    {
      "cell_type": "code",
      "source": [
        "# Encoding to Integer from String values by Label Encoder \n",
        "y = LabelEncoder().fit_transform(y)\n",
        "n_class = len(unique(y))"
      ],
      "metadata": {
        "id": "2h11oMepv5c6"
      },
      "execution_count": 6,
      "outputs": []
    },
    {
      "cell_type": "code",
      "source": [
        "# Training & Test Data Split \n",
        "X_train, X_test, y_train, y_test = train_test_split(X, y, test_size=0.2, random_state=1)\n",
        "X_train, X_val, y_train, y_val = train_test_split(X_train, y_train, test_size=0.2, random_state=1)"
      ],
      "metadata": {
        "id": "MuOl7ojQwFPk"
      },
      "execution_count": 7,
      "outputs": []
    },
    {
      "cell_type": "code",
      "source": [
        "# Deep Nural Network Model (DNN)\n",
        "model = Sequential()\n",
        "model.add(Dense(20, input_dim=n_features, activation='tanh', kernel_initializer='normal'))\n",
        "model.add(Dense(10, activation='relu', kernel_initializer='he_normal'))\n",
        "model.add(Dense(n_class, activation='softmax'))\n",
        "model.summary()"
      ],
      "metadata": {
        "colab": {
          "base_uri": "https://localhost:8080/"
        },
        "id": "q6IiHk3vwiDb",
        "outputId": "7ba53058-69e5-4e35-8159-4b7391329643"
      },
      "execution_count": 8,
      "outputs": [
        {
          "output_type": "stream",
          "name": "stdout",
          "text": [
            "Model: \"sequential\"\n",
            "_________________________________________________________________\n",
            " Layer (type)                Output Shape              Param #   \n",
            "=================================================================\n",
            " dense (Dense)               (None, 20)                160       \n",
            "                                                                 \n",
            " dense_1 (Dense)             (None, 10)                210       \n",
            "                                                                 \n",
            " dense_2 (Dense)             (None, 28)                308       \n",
            "                                                                 \n",
            "=================================================================\n",
            "Total params: 678\n",
            "Trainable params: 678\n",
            "Non-trainable params: 0\n",
            "_________________________________________________________________\n"
          ]
        }
      ]
    },
    {
      "cell_type": "code",
      "source": [
        "# Compile the Model \n",
        "model.compile(loss='sparse_categorical_crossentropy', optimizer='adam', metrics=['accuracy'])"
      ],
      "metadata": {
        "id": "gK_nPFllwiHP"
      },
      "execution_count": 9,
      "outputs": []
    },
    {
      "cell_type": "code",
      "source": [
        "#Model Fitting\n",
        "history = model.fit(X_train, y_train, epochs=100, batch_size=30, validation_data=(X_val, y_val))"
      ],
      "metadata": {
        "id": "vAMd6-awwiK_",
        "colab": {
          "base_uri": "https://localhost:8080/"
        },
        "outputId": "70a498db-22e1-427c-8cee-442b258bf115"
      },
      "execution_count": 10,
      "outputs": [
        {
          "output_type": "stream",
          "name": "stdout",
          "text": [
            "Epoch 1/100\n",
            "90/90 [==============================] - 1s 6ms/step - loss: 3.1179 - accuracy: 0.1336 - val_loss: 2.8073 - val_accuracy: 0.1286\n",
            "Epoch 2/100\n",
            "90/90 [==============================] - 0s 3ms/step - loss: 2.6507 - accuracy: 0.1613 - val_loss: 2.5077 - val_accuracy: 0.1719\n",
            "Epoch 3/100\n",
            "90/90 [==============================] - 0s 3ms/step - loss: 2.5077 - accuracy: 0.1497 - val_loss: 2.4550 - val_accuracy: 0.1599\n",
            "Epoch 4/100\n",
            "90/90 [==============================] - 0s 3ms/step - loss: 2.4708 - accuracy: 0.1467 - val_loss: 2.4238 - val_accuracy: 0.1570\n",
            "Epoch 5/100\n",
            "90/90 [==============================] - 0s 3ms/step - loss: 2.4316 - accuracy: 0.1684 - val_loss: 2.3794 - val_accuracy: 0.1839\n",
            "Epoch 6/100\n",
            "90/90 [==============================] - 0s 3ms/step - loss: 2.3835 - accuracy: 0.1811 - val_loss: 2.3187 - val_accuracy: 0.2212\n",
            "Epoch 7/100\n",
            "90/90 [==============================] - 0s 3ms/step - loss: 2.3172 - accuracy: 0.2298 - val_loss: 2.2568 - val_accuracy: 0.2377\n",
            "Epoch 8/100\n",
            "90/90 [==============================] - 0s 3ms/step - loss: 2.2596 - accuracy: 0.2376 - val_loss: 2.2183 - val_accuracy: 0.2436\n",
            "Epoch 9/100\n",
            "90/90 [==============================] - 0s 3ms/step - loss: 2.2236 - accuracy: 0.2421 - val_loss: 2.1947 - val_accuracy: 0.2422\n",
            "Epoch 10/100\n",
            "90/90 [==============================] - 0s 5ms/step - loss: 2.2013 - accuracy: 0.2552 - val_loss: 2.1769 - val_accuracy: 0.2422\n",
            "Epoch 11/100\n",
            "90/90 [==============================] - 1s 6ms/step - loss: 2.1860 - accuracy: 0.2530 - val_loss: 2.1692 - val_accuracy: 0.2347\n",
            "Epoch 12/100\n",
            "90/90 [==============================] - 1s 6ms/step - loss: 2.1753 - accuracy: 0.2545 - val_loss: 2.1606 - val_accuracy: 0.2377\n",
            "Epoch 13/100\n",
            "90/90 [==============================] - 1s 8ms/step - loss: 2.1647 - accuracy: 0.2556 - val_loss: 2.1474 - val_accuracy: 0.2481\n",
            "Epoch 14/100\n",
            "90/90 [==============================] - 0s 5ms/step - loss: 2.1579 - accuracy: 0.2545 - val_loss: 2.1422 - val_accuracy: 0.2496\n",
            "Epoch 15/100\n",
            "90/90 [==============================] - 1s 6ms/step - loss: 2.1507 - accuracy: 0.2545 - val_loss: 2.1379 - val_accuracy: 0.2481\n",
            "Epoch 16/100\n",
            "90/90 [==============================] - 1s 7ms/step - loss: 2.1434 - accuracy: 0.2653 - val_loss: 2.1325 - val_accuracy: 0.2347\n",
            "Epoch 17/100\n",
            "90/90 [==============================] - 1s 7ms/step - loss: 2.1383 - accuracy: 0.2545 - val_loss: 2.1215 - val_accuracy: 0.2362\n",
            "Epoch 18/100\n",
            "90/90 [==============================] - 1s 9ms/step - loss: 2.1306 - accuracy: 0.2638 - val_loss: 2.1203 - val_accuracy: 0.2511\n",
            "Epoch 19/100\n",
            "90/90 [==============================] - 1s 9ms/step - loss: 2.1251 - accuracy: 0.2706 - val_loss: 2.1094 - val_accuracy: 0.2466\n",
            "Epoch 20/100\n",
            "90/90 [==============================] - 1s 9ms/step - loss: 2.1196 - accuracy: 0.2676 - val_loss: 2.1048 - val_accuracy: 0.2466\n",
            "Epoch 21/100\n",
            "90/90 [==============================] - 1s 8ms/step - loss: 2.1146 - accuracy: 0.2665 - val_loss: 2.1017 - val_accuracy: 0.2407\n",
            "Epoch 22/100\n",
            "90/90 [==============================] - 1s 9ms/step - loss: 2.1084 - accuracy: 0.2650 - val_loss: 2.0948 - val_accuracy: 0.2466\n",
            "Epoch 23/100\n",
            "90/90 [==============================] - 1s 8ms/step - loss: 2.1032 - accuracy: 0.2680 - val_loss: 2.0901 - val_accuracy: 0.2436\n",
            "Epoch 24/100\n",
            "90/90 [==============================] - 1s 10ms/step - loss: 2.0980 - accuracy: 0.2721 - val_loss: 2.0851 - val_accuracy: 0.2436\n",
            "Epoch 25/100\n",
            "90/90 [==============================] - 1s 12ms/step - loss: 2.0929 - accuracy: 0.2698 - val_loss: 2.0768 - val_accuracy: 0.2526\n",
            "Epoch 26/100\n",
            "90/90 [==============================] - 1s 10ms/step - loss: 2.0883 - accuracy: 0.2773 - val_loss: 2.0835 - val_accuracy: 0.2422\n",
            "Epoch 27/100\n",
            "90/90 [==============================] - 1s 8ms/step - loss: 2.0840 - accuracy: 0.2725 - val_loss: 2.0700 - val_accuracy: 0.2526\n",
            "Epoch 28/100\n",
            "90/90 [==============================] - 1s 10ms/step - loss: 2.0791 - accuracy: 0.2717 - val_loss: 2.0612 - val_accuracy: 0.2526\n",
            "Epoch 29/100\n",
            "90/90 [==============================] - 1s 10ms/step - loss: 2.0710 - accuracy: 0.2766 - val_loss: 2.0537 - val_accuracy: 0.2586\n",
            "Epoch 30/100\n",
            "90/90 [==============================] - 1s 9ms/step - loss: 2.0641 - accuracy: 0.2822 - val_loss: 2.0489 - val_accuracy: 0.2586\n",
            "Epoch 31/100\n",
            "90/90 [==============================] - 1s 8ms/step - loss: 2.0595 - accuracy: 0.2773 - val_loss: 2.0416 - val_accuracy: 0.2541\n",
            "Epoch 32/100\n",
            "90/90 [==============================] - 1s 9ms/step - loss: 2.0530 - accuracy: 0.2736 - val_loss: 2.0364 - val_accuracy: 0.2586\n",
            "Epoch 33/100\n",
            "90/90 [==============================] - 1s 10ms/step - loss: 2.0463 - accuracy: 0.2781 - val_loss: 2.0306 - val_accuracy: 0.2601\n",
            "Epoch 34/100\n",
            "90/90 [==============================] - 1s 10ms/step - loss: 2.0426 - accuracy: 0.2751 - val_loss: 2.0258 - val_accuracy: 0.2631\n",
            "Epoch 35/100\n",
            "90/90 [==============================] - 1s 10ms/step - loss: 2.0372 - accuracy: 0.2717 - val_loss: 2.0205 - val_accuracy: 0.2616\n",
            "Epoch 36/100\n",
            "90/90 [==============================] - 1s 10ms/step - loss: 2.0321 - accuracy: 0.2710 - val_loss: 2.0212 - val_accuracy: 0.2616\n",
            "Epoch 37/100\n",
            "90/90 [==============================] - 1s 10ms/step - loss: 2.0265 - accuracy: 0.2814 - val_loss: 2.0114 - val_accuracy: 0.2541\n",
            "Epoch 38/100\n",
            "90/90 [==============================] - 1s 10ms/step - loss: 2.0230 - accuracy: 0.2773 - val_loss: 2.0070 - val_accuracy: 0.2571\n",
            "Epoch 39/100\n",
            "90/90 [==============================] - 1s 11ms/step - loss: 2.0174 - accuracy: 0.2769 - val_loss: 2.0038 - val_accuracy: 0.2735\n",
            "Epoch 40/100\n",
            "90/90 [==============================] - 1s 11ms/step - loss: 2.0133 - accuracy: 0.2743 - val_loss: 2.0032 - val_accuracy: 0.2586\n",
            "Epoch 41/100\n",
            "90/90 [==============================] - 1s 10ms/step - loss: 2.0086 - accuracy: 0.2769 - val_loss: 1.9959 - val_accuracy: 0.2676\n",
            "Epoch 42/100\n",
            "90/90 [==============================] - 1s 11ms/step - loss: 2.0049 - accuracy: 0.2826 - val_loss: 1.9928 - val_accuracy: 0.2720\n",
            "Epoch 43/100\n",
            "90/90 [==============================] - 1s 12ms/step - loss: 1.9992 - accuracy: 0.2691 - val_loss: 1.9856 - val_accuracy: 0.2646\n",
            "Epoch 44/100\n",
            "90/90 [==============================] - 1s 8ms/step - loss: 1.9960 - accuracy: 0.2897 - val_loss: 1.9833 - val_accuracy: 0.2601\n",
            "Epoch 45/100\n",
            "90/90 [==============================] - 1s 8ms/step - loss: 1.9934 - accuracy: 0.2758 - val_loss: 1.9862 - val_accuracy: 0.2631\n",
            "Epoch 46/100\n",
            "90/90 [==============================] - 0s 5ms/step - loss: 1.9893 - accuracy: 0.2818 - val_loss: 1.9759 - val_accuracy: 0.2616\n",
            "Epoch 47/100\n",
            "90/90 [==============================] - 1s 6ms/step - loss: 1.9850 - accuracy: 0.2784 - val_loss: 1.9747 - val_accuracy: 0.2646\n",
            "Epoch 48/100\n",
            "90/90 [==============================] - 1s 6ms/step - loss: 1.9834 - accuracy: 0.2841 - val_loss: 1.9742 - val_accuracy: 0.2511\n",
            "Epoch 49/100\n",
            "90/90 [==============================] - 0s 5ms/step - loss: 1.9802 - accuracy: 0.2773 - val_loss: 1.9694 - val_accuracy: 0.2676\n",
            "Epoch 50/100\n",
            "90/90 [==============================] - 1s 6ms/step - loss: 1.9785 - accuracy: 0.2874 - val_loss: 1.9731 - val_accuracy: 0.2706\n",
            "Epoch 51/100\n",
            "90/90 [==============================] - 1s 7ms/step - loss: 1.9742 - accuracy: 0.2829 - val_loss: 1.9708 - val_accuracy: 0.2735\n",
            "Epoch 52/100\n",
            "90/90 [==============================] - 1s 9ms/step - loss: 1.9721 - accuracy: 0.2799 - val_loss: 1.9688 - val_accuracy: 0.2750\n",
            "Epoch 53/100\n",
            "90/90 [==============================] - 0s 3ms/step - loss: 1.9705 - accuracy: 0.2863 - val_loss: 1.9613 - val_accuracy: 0.2541\n",
            "Epoch 54/100\n",
            "90/90 [==============================] - 0s 3ms/step - loss: 1.9671 - accuracy: 0.2871 - val_loss: 1.9606 - val_accuracy: 0.2526\n",
            "Epoch 55/100\n",
            "90/90 [==============================] - 0s 3ms/step - loss: 1.9667 - accuracy: 0.2852 - val_loss: 1.9696 - val_accuracy: 0.2661\n",
            "Epoch 56/100\n",
            "90/90 [==============================] - 0s 3ms/step - loss: 1.9662 - accuracy: 0.2762 - val_loss: 1.9598 - val_accuracy: 0.2706\n",
            "Epoch 57/100\n",
            "90/90 [==============================] - 0s 3ms/step - loss: 1.9626 - accuracy: 0.2856 - val_loss: 1.9671 - val_accuracy: 0.2601\n",
            "Epoch 58/100\n",
            "90/90 [==============================] - 0s 3ms/step - loss: 1.9616 - accuracy: 0.2874 - val_loss: 1.9543 - val_accuracy: 0.2661\n",
            "Epoch 59/100\n",
            "90/90 [==============================] - 0s 3ms/step - loss: 1.9601 - accuracy: 0.2867 - val_loss: 1.9542 - val_accuracy: 0.2661\n",
            "Epoch 60/100\n",
            "90/90 [==============================] - 0s 3ms/step - loss: 1.9575 - accuracy: 0.2871 - val_loss: 1.9772 - val_accuracy: 0.2750\n",
            "Epoch 61/100\n",
            "90/90 [==============================] - 0s 3ms/step - loss: 1.9604 - accuracy: 0.2814 - val_loss: 1.9546 - val_accuracy: 0.2780\n",
            "Epoch 62/100\n",
            "90/90 [==============================] - 0s 3ms/step - loss: 1.9595 - accuracy: 0.2848 - val_loss: 1.9642 - val_accuracy: 0.2646\n",
            "Epoch 63/100\n",
            "90/90 [==============================] - 0s 3ms/step - loss: 1.9561 - accuracy: 0.2874 - val_loss: 1.9614 - val_accuracy: 0.2676\n",
            "Epoch 64/100\n",
            "90/90 [==============================] - 0s 3ms/step - loss: 1.9566 - accuracy: 0.2856 - val_loss: 1.9515 - val_accuracy: 0.2571\n",
            "Epoch 65/100\n",
            "90/90 [==============================] - 0s 3ms/step - loss: 1.9539 - accuracy: 0.2863 - val_loss: 1.9504 - val_accuracy: 0.2601\n",
            "Epoch 66/100\n",
            "90/90 [==============================] - 0s 3ms/step - loss: 1.9534 - accuracy: 0.2867 - val_loss: 1.9649 - val_accuracy: 0.2750\n",
            "Epoch 67/100\n",
            "90/90 [==============================] - 0s 3ms/step - loss: 1.9555 - accuracy: 0.2915 - val_loss: 1.9534 - val_accuracy: 0.2676\n",
            "Epoch 68/100\n",
            "90/90 [==============================] - 0s 3ms/step - loss: 1.9475 - accuracy: 0.2934 - val_loss: 1.9569 - val_accuracy: 0.2646\n",
            "Epoch 69/100\n",
            "90/90 [==============================] - 0s 3ms/step - loss: 1.9511 - accuracy: 0.2837 - val_loss: 1.9557 - val_accuracy: 0.2720\n",
            "Epoch 70/100\n",
            "90/90 [==============================] - 0s 3ms/step - loss: 1.9501 - accuracy: 0.2882 - val_loss: 1.9530 - val_accuracy: 0.2616\n",
            "Epoch 71/100\n",
            "90/90 [==============================] - 0s 3ms/step - loss: 1.9481 - accuracy: 0.2938 - val_loss: 1.9513 - val_accuracy: 0.2810\n",
            "Epoch 72/100\n",
            "90/90 [==============================] - 0s 3ms/step - loss: 1.9487 - accuracy: 0.2957 - val_loss: 1.9539 - val_accuracy: 0.2616\n",
            "Epoch 73/100\n",
            "90/90 [==============================] - 0s 3ms/step - loss: 1.9464 - accuracy: 0.2904 - val_loss: 1.9495 - val_accuracy: 0.2691\n",
            "Epoch 74/100\n",
            "90/90 [==============================] - 0s 3ms/step - loss: 1.9456 - accuracy: 0.2878 - val_loss: 1.9568 - val_accuracy: 0.2720\n",
            "Epoch 75/100\n",
            "90/90 [==============================] - 0s 3ms/step - loss: 1.9443 - accuracy: 0.2927 - val_loss: 1.9544 - val_accuracy: 0.2735\n",
            "Epoch 76/100\n",
            "90/90 [==============================] - 0s 3ms/step - loss: 1.9460 - accuracy: 0.2874 - val_loss: 1.9544 - val_accuracy: 0.2720\n",
            "Epoch 77/100\n",
            "90/90 [==============================] - 0s 3ms/step - loss: 1.9440 - accuracy: 0.2856 - val_loss: 1.9518 - val_accuracy: 0.2780\n",
            "Epoch 78/100\n",
            "90/90 [==============================] - 0s 3ms/step - loss: 1.9443 - accuracy: 0.2960 - val_loss: 1.9518 - val_accuracy: 0.2661\n",
            "Epoch 79/100\n",
            "90/90 [==============================] - 0s 3ms/step - loss: 1.9416 - accuracy: 0.2942 - val_loss: 1.9531 - val_accuracy: 0.2750\n",
            "Epoch 80/100\n",
            "90/90 [==============================] - 0s 3ms/step - loss: 1.9437 - accuracy: 0.2848 - val_loss: 1.9481 - val_accuracy: 0.2586\n",
            "Epoch 81/100\n",
            "90/90 [==============================] - 0s 3ms/step - loss: 1.9407 - accuracy: 0.2908 - val_loss: 1.9570 - val_accuracy: 0.2765\n",
            "Epoch 82/100\n",
            "90/90 [==============================] - 0s 3ms/step - loss: 1.9397 - accuracy: 0.2927 - val_loss: 1.9500 - val_accuracy: 0.2691\n",
            "Epoch 83/100\n",
            "90/90 [==============================] - 0s 3ms/step - loss: 1.9414 - accuracy: 0.2874 - val_loss: 1.9561 - val_accuracy: 0.2780\n",
            "Epoch 84/100\n",
            "90/90 [==============================] - 0s 3ms/step - loss: 1.9397 - accuracy: 0.2893 - val_loss: 1.9533 - val_accuracy: 0.2810\n",
            "Epoch 85/100\n",
            "90/90 [==============================] - 0s 3ms/step - loss: 1.9400 - accuracy: 0.2930 - val_loss: 1.9475 - val_accuracy: 0.2631\n",
            "Epoch 86/100\n",
            "90/90 [==============================] - 0s 3ms/step - loss: 1.9413 - accuracy: 0.2885 - val_loss: 1.9556 - val_accuracy: 0.2735\n",
            "Epoch 87/100\n",
            "90/90 [==============================] - 0s 3ms/step - loss: 1.9402 - accuracy: 0.2893 - val_loss: 1.9489 - val_accuracy: 0.2661\n",
            "Epoch 88/100\n",
            "90/90 [==============================] - 0s 3ms/step - loss: 1.9391 - accuracy: 0.2889 - val_loss: 1.9501 - val_accuracy: 0.2735\n",
            "Epoch 89/100\n",
            "90/90 [==============================] - 0s 3ms/step - loss: 1.9386 - accuracy: 0.2848 - val_loss: 1.9495 - val_accuracy: 0.2661\n",
            "Epoch 90/100\n",
            "90/90 [==============================] - 0s 3ms/step - loss: 1.9376 - accuracy: 0.2867 - val_loss: 1.9511 - val_accuracy: 0.2691\n",
            "Epoch 91/100\n",
            "90/90 [==============================] - 0s 3ms/step - loss: 1.9389 - accuracy: 0.2900 - val_loss: 1.9483 - val_accuracy: 0.2750\n",
            "Epoch 92/100\n",
            "90/90 [==============================] - 0s 3ms/step - loss: 1.9374 - accuracy: 0.2814 - val_loss: 1.9661 - val_accuracy: 0.2720\n",
            "Epoch 93/100\n",
            "90/90 [==============================] - 0s 3ms/step - loss: 1.9399 - accuracy: 0.2919 - val_loss: 1.9472 - val_accuracy: 0.2691\n",
            "Epoch 94/100\n",
            "90/90 [==============================] - 0s 3ms/step - loss: 1.9371 - accuracy: 0.2897 - val_loss: 1.9475 - val_accuracy: 0.2706\n",
            "Epoch 95/100\n",
            "90/90 [==============================] - 0s 3ms/step - loss: 1.9365 - accuracy: 0.2904 - val_loss: 1.9488 - val_accuracy: 0.2795\n",
            "Epoch 96/100\n",
            "90/90 [==============================] - 0s 3ms/step - loss: 1.9351 - accuracy: 0.2934 - val_loss: 1.9587 - val_accuracy: 0.2855\n",
            "Epoch 97/100\n",
            "90/90 [==============================] - 0s 3ms/step - loss: 1.9361 - accuracy: 0.2893 - val_loss: 1.9532 - val_accuracy: 0.2735\n",
            "Epoch 98/100\n",
            "90/90 [==============================] - 0s 3ms/step - loss: 1.9369 - accuracy: 0.2885 - val_loss: 1.9488 - val_accuracy: 0.2691\n",
            "Epoch 99/100\n",
            "90/90 [==============================] - 0s 3ms/step - loss: 1.9354 - accuracy: 0.2923 - val_loss: 1.9521 - val_accuracy: 0.2720\n",
            "Epoch 100/100\n",
            "90/90 [==============================] - 0s 4ms/step - loss: 1.9354 - accuracy: 0.2889 - val_loss: 1.9493 - val_accuracy: 0.2616\n"
          ]
        }
      ]
    },
    {
      "cell_type": "code",
      "source": [
        "# Evaluate on Test \n",
        "predict = model.predict(X_test)\n",
        "predict = argmax(predict, axis=-1).astype('int')\n",
        "acc = accuracy_score(y_test, predict)\n",
        "print('Accuracy: %.3f' % acc)"
      ],
      "metadata": {
        "id": "bmuakFcTwiPR",
        "colab": {
          "base_uri": "https://localhost:8080/"
        },
        "outputId": "65c3d504-58d4-4ed9-98b6-ee3db8e2fcfd"
      },
      "execution_count": 11,
      "outputs": [
        {
          "output_type": "stream",
          "name": "stdout",
          "text": [
            "27/27 [==============================] - 0s 1ms/step\n",
            "Accuracy: 0.266\n"
          ]
        }
      ]
    },
    {
      "cell_type": "code",
      "source": [
        "pd.DataFrame(list(zip(y_test,predict)), columns = ['Actual Values', 'Predicted Values'])"
      ],
      "metadata": {
        "colab": {
          "base_uri": "https://localhost:8080/",
          "height": 456
        },
        "id": "DQo7BqJ-wkyd",
        "outputId": "8dbbd69c-fdb3-4ff5-e2f8-a26765dfa783"
      },
      "execution_count": 14,
      "outputs": [
        {
          "output_type": "execute_result",
          "data": {
            "text/plain": [
              "     Actual Values  Predicted Values\n",
              "0                9                 7\n",
              "1                7                 7\n",
              "2                8                 6\n",
              "3                9                 7\n",
              "4               15                 8\n",
              "..             ...               ...\n",
              "831              7                 8\n",
              "832             10                10\n",
              "833              7                 8\n",
              "834              9                10\n",
              "835              7                 9\n",
              "\n",
              "[836 rows x 2 columns]"
            ],
            "text/html": [
              "\n",
              "  <div id=\"df-2f56b53c-89f8-4775-97a8-eabd402cae18\">\n",
              "    <div class=\"colab-df-container\">\n",
              "      <div>\n",
              "<style scoped>\n",
              "    .dataframe tbody tr th:only-of-type {\n",
              "        vertical-align: middle;\n",
              "    }\n",
              "\n",
              "    .dataframe tbody tr th {\n",
              "        vertical-align: top;\n",
              "    }\n",
              "\n",
              "    .dataframe thead th {\n",
              "        text-align: right;\n",
              "    }\n",
              "</style>\n",
              "<table border=\"1\" class=\"dataframe\">\n",
              "  <thead>\n",
              "    <tr style=\"text-align: right;\">\n",
              "      <th></th>\n",
              "      <th>Actual Values</th>\n",
              "      <th>Predicted Values</th>\n",
              "    </tr>\n",
              "  </thead>\n",
              "  <tbody>\n",
              "    <tr>\n",
              "      <th>0</th>\n",
              "      <td>9</td>\n",
              "      <td>7</td>\n",
              "    </tr>\n",
              "    <tr>\n",
              "      <th>1</th>\n",
              "      <td>7</td>\n",
              "      <td>7</td>\n",
              "    </tr>\n",
              "    <tr>\n",
              "      <th>2</th>\n",
              "      <td>8</td>\n",
              "      <td>6</td>\n",
              "    </tr>\n",
              "    <tr>\n",
              "      <th>3</th>\n",
              "      <td>9</td>\n",
              "      <td>7</td>\n",
              "    </tr>\n",
              "    <tr>\n",
              "      <th>4</th>\n",
              "      <td>15</td>\n",
              "      <td>8</td>\n",
              "    </tr>\n",
              "    <tr>\n",
              "      <th>...</th>\n",
              "      <td>...</td>\n",
              "      <td>...</td>\n",
              "    </tr>\n",
              "    <tr>\n",
              "      <th>831</th>\n",
              "      <td>7</td>\n",
              "      <td>8</td>\n",
              "    </tr>\n",
              "    <tr>\n",
              "      <th>832</th>\n",
              "      <td>10</td>\n",
              "      <td>10</td>\n",
              "    </tr>\n",
              "    <tr>\n",
              "      <th>833</th>\n",
              "      <td>7</td>\n",
              "      <td>8</td>\n",
              "    </tr>\n",
              "    <tr>\n",
              "      <th>834</th>\n",
              "      <td>9</td>\n",
              "      <td>10</td>\n",
              "    </tr>\n",
              "    <tr>\n",
              "      <th>835</th>\n",
              "      <td>7</td>\n",
              "      <td>9</td>\n",
              "    </tr>\n",
              "  </tbody>\n",
              "</table>\n",
              "<p>836 rows × 2 columns</p>\n",
              "</div>\n",
              "      <button class=\"colab-df-convert\" onclick=\"convertToInteractive('df-2f56b53c-89f8-4775-97a8-eabd402cae18')\"\n",
              "              title=\"Convert this dataframe to an interactive table.\"\n",
              "              style=\"display:none;\">\n",
              "        \n",
              "  <svg xmlns=\"http://www.w3.org/2000/svg\" height=\"24px\"viewBox=\"0 0 24 24\"\n",
              "       width=\"24px\">\n",
              "    <path d=\"M0 0h24v24H0V0z\" fill=\"none\"/>\n",
              "    <path d=\"M18.56 5.44l.94 2.06.94-2.06 2.06-.94-2.06-.94-.94-2.06-.94 2.06-2.06.94zm-11 1L8.5 8.5l.94-2.06 2.06-.94-2.06-.94L8.5 2.5l-.94 2.06-2.06.94zm10 10l.94 2.06.94-2.06 2.06-.94-2.06-.94-.94-2.06-.94 2.06-2.06.94z\"/><path d=\"M17.41 7.96l-1.37-1.37c-.4-.4-.92-.59-1.43-.59-.52 0-1.04.2-1.43.59L10.3 9.45l-7.72 7.72c-.78.78-.78 2.05 0 2.83L4 21.41c.39.39.9.59 1.41.59.51 0 1.02-.2 1.41-.59l7.78-7.78 2.81-2.81c.8-.78.8-2.07 0-2.86zM5.41 20L4 18.59l7.72-7.72 1.47 1.35L5.41 20z\"/>\n",
              "  </svg>\n",
              "      </button>\n",
              "      \n",
              "  <style>\n",
              "    .colab-df-container {\n",
              "      display:flex;\n",
              "      flex-wrap:wrap;\n",
              "      gap: 12px;\n",
              "    }\n",
              "\n",
              "    .colab-df-convert {\n",
              "      background-color: #E8F0FE;\n",
              "      border: none;\n",
              "      border-radius: 50%;\n",
              "      cursor: pointer;\n",
              "      display: none;\n",
              "      fill: #1967D2;\n",
              "      height: 32px;\n",
              "      padding: 0 0 0 0;\n",
              "      width: 32px;\n",
              "    }\n",
              "\n",
              "    .colab-df-convert:hover {\n",
              "      background-color: #E2EBFA;\n",
              "      box-shadow: 0px 1px 2px rgba(60, 64, 67, 0.3), 0px 1px 3px 1px rgba(60, 64, 67, 0.15);\n",
              "      fill: #174EA6;\n",
              "    }\n",
              "\n",
              "    [theme=dark] .colab-df-convert {\n",
              "      background-color: #3B4455;\n",
              "      fill: #D2E3FC;\n",
              "    }\n",
              "\n",
              "    [theme=dark] .colab-df-convert:hover {\n",
              "      background-color: #434B5C;\n",
              "      box-shadow: 0px 1px 3px 1px rgba(0, 0, 0, 0.15);\n",
              "      filter: drop-shadow(0px 1px 2px rgba(0, 0, 0, 0.3));\n",
              "      fill: #FFFFFF;\n",
              "    }\n",
              "  </style>\n",
              "\n",
              "      <script>\n",
              "        const buttonEl =\n",
              "          document.querySelector('#df-2f56b53c-89f8-4775-97a8-eabd402cae18 button.colab-df-convert');\n",
              "        buttonEl.style.display =\n",
              "          google.colab.kernel.accessAllowed ? 'block' : 'none';\n",
              "\n",
              "        async function convertToInteractive(key) {\n",
              "          const element = document.querySelector('#df-2f56b53c-89f8-4775-97a8-eabd402cae18');\n",
              "          const dataTable =\n",
              "            await google.colab.kernel.invokeFunction('convertToInteractive',\n",
              "                                                     [key], {});\n",
              "          if (!dataTable) return;\n",
              "\n",
              "          const docLinkHtml = 'Like what you see? Visit the ' +\n",
              "            '<a target=\"_blank\" href=https://colab.research.google.com/notebooks/data_table.ipynb>data table notebook</a>'\n",
              "            + ' to learn more about interactive tables.';\n",
              "          element.innerHTML = '';\n",
              "          dataTable['output_type'] = 'display_data';\n",
              "          await google.colab.output.renderOutput(dataTable, element);\n",
              "          const docLink = document.createElement('div');\n",
              "          docLink.innerHTML = docLinkHtml;\n",
              "          element.appendChild(docLink);\n",
              "        }\n",
              "      </script>\n",
              "    </div>\n",
              "  </div>\n",
              "  "
            ]
          },
          "metadata": {},
          "execution_count": 14
        }
      ]
    },
    {
      "cell_type": "code",
      "source": [
        "# Graph of the Model\n",
        "tf.keras.utils.plot_model(\n",
        "    model,\n",
        "    to_file='abalone-db.png',\n",
        "    show_shapes=False,\n",
        "    show_dtype=False,\n",
        "    show_layer_names=True,\n",
        "    rankdir='TB',\n",
        "    expand_nested=False,\n",
        "    dpi=96,\n",
        "    layer_range=None,\n",
        "    show_layer_activations=False\n",
        ")"
      ],
      "metadata": {
        "id": "GxMln_tjwiUz",
        "colab": {
          "base_uri": "https://localhost:8080/",
          "height": 369
        },
        "outputId": "3e23f5f5-0944-4472-a27b-23ffab768019"
      },
      "execution_count": 15,
      "outputs": [
        {
          "output_type": "execute_result",
          "data": {
            "image/png": "[encoded data removed]",
            "text/plain": [
              "<IPython.core.display.Image object>"
            ]
          },
          "metadata": {},
          "execution_count": 15
        }
      ]
    },
    {
      "cell_type": "code",
      "source": [
        "# Generating graph for Accuracy & Validation Accuracy \n",
        "plt.plot(history.history['accuracy'])\n",
        "plt.plot(history.history['val_accuracy'])\n",
        "plt.title('model accuracy')\n",
        "plt.ylabel('accuracy')\n",
        "plt.xlabel('epoch')\n",
        "plt.legend(['Train', 'Validation'], loc='upper left')\n",
        "plt.show()"
      ],
      "metadata": {
        "id": "T-Oapzc7ww6v",
        "colab": {
          "base_uri": "https://localhost:8080/",
          "height": 295
        },
        "outputId": "538b2b2e-025c-46a6-c6dc-233b2f64d0d5"
      },
      "execution_count": 16,
      "outputs": [
        {
          "output_type": "display_data",
          "data": {
            "text/plain": [
              "<Figure size 432x288 with 1 Axes>"
            ],
            "image/png": "[encoded data removed]"
          },
          "metadata": {
            "needs_background": "light"
          }
        }
      ]
    },
    {
      "cell_type": "code",
      "source": [
        "# Generating graph for Loss & Validation Loss \n",
        "plt.plot(history.history['loss'])\n",
        "plt.plot(history.history['val_loss'])\n",
        "plt.title('model loss')\n",
        "plt.ylabel('loss')\n",
        "plt.xlabel('epoch')\n",
        "plt.legend(['Train', 'Validation'], loc='upper left')\n",
        "plt.show()"
      ],
      "metadata": {
        "id": "gacDFxKZww-s",
        "colab": {
          "base_uri": "https://localhost:8080/",
          "height": 295
        },
        "outputId": "c2d98c4d-3ce6-436e-96e3-4fdfabf80c76"
      },
      "execution_count": 17,
      "outputs": [
        {
          "output_type": "display_data",
          "data": {
            "text/plain": [
              "<Figure size 432x288 with 1 Axes>"
            ],
            "image/png": "[encoded data removed]"
          },
          "metadata": {
            "needs_background": "light"
          }
        }
      ]
    },
    {
      "cell_type": "markdown",
      "source": [
        "# (c) * (d) Improved DNN Model"
      ],
      "metadata": {
        "id": "XGj83wvWQOf6"
      }
    },
    {
      "cell_type": "code",
      "source": [
        "# Deep Nural Network Model (DNN)\n",
        "model = Sequential()\n",
        "model.add(Dense(20, input_dim=n_features, activation='relu', kernel_initializer='he_normal'))\n",
        "model.add(Dense(10, activation='relu', kernel_initializer='he_normal'))\n",
        "model.add(Dense(n_class, activation='softmax'))\n",
        "model.summary()"
      ],
      "metadata": {
        "id": "3_nMnYN17VPH",
        "colab": {
          "base_uri": "https://localhost:8080/"
        },
        "outputId": "6b75e672-ea01-44d2-d4c1-23546462a1bd"
      },
      "execution_count": 18,
      "outputs": [
        {
          "output_type": "stream",
          "name": "stdout",
          "text": [
            "Model: \"sequential_1\"\n",
            "_________________________________________________________________\n",
            " Layer (type)                Output Shape              Param #   \n",
            "=================================================================\n",
            " dense_3 (Dense)             (None, 20)                160       \n",
            "                                                                 \n",
            " dense_4 (Dense)             (None, 10)                210       \n",
            "                                                                 \n",
            " dense_5 (Dense)             (None, 28)                308       \n",
            "                                                                 \n",
            "=================================================================\n",
            "Total params: 678\n",
            "Trainable params: 678\n",
            "Non-trainable params: 0\n",
            "_________________________________________________________________\n"
          ]
        }
      ]
    },
    {
      "cell_type": "code",
      "source": [
        "# Compile the Model \n",
        "model.compile(loss='sparse_categorical_crossentropy', optimizer='adam', metrics=['accuracy'])"
      ],
      "metadata": {
        "id": "Kdx0J_TJ7ZsT"
      },
      "execution_count": 19,
      "outputs": []
    },
    {
      "cell_type": "code",
      "source": [
        "# Model Fitting\n",
        "hist = model.fit(X_train, y_train, batch_size=32,verbose=1, validation_data=(X_test, y_test))\n",
        "hist = model.fit(X_train, y_train, epochs=100, batch_size=32, verbose=2, validation_split=0.5)"
      ],
      "metadata": {
        "id": "zYxeCkys7Zvi"
      },
      "execution_count": null,
      "outputs": []
    },
    {
      "cell_type": "code",
      "source": [
        "# Evaluate on Test \n",
        "predict = model.predict(X_test)\n",
        "predict = argmax(predict, axis=-1).astype('int')\n",
        "acc = accuracy_score(y_test, predict)\n",
        "print('Accuracy: %.3f' % acc)"
      ],
      "metadata": {
        "id": "B7T4ZLpO7Zy1",
        "colab": {
          "base_uri": "https://localhost:8080/"
        },
        "outputId": "b5997cc1-ecc4-471e-bbda-ce1e08e1cd79"
      },
      "execution_count": 21,
      "outputs": [
        {
          "output_type": "stream",
          "name": "stdout",
          "text": [
            "27/27 [==============================] - 0s 2ms/step\n",
            "Accuracy: 0.251\n"
          ]
        }
      ]
    },
    {
      "cell_type": "code",
      "source": [
        "# Graph of the Model\n",
        "tf.keras.utils.plot_model(\n",
        "    model,\n",
        "    to_file='abalone-dc.png',\n",
        "    show_shapes=False,\n",
        "    show_dtype=False,\n",
        "    show_layer_names=True,\n",
        "    rankdir='TB',\n",
        "    expand_nested=False,\n",
        "    dpi=96,\n",
        "    layer_range=None,\n",
        "    show_layer_activations=False\n",
        ")"
      ],
      "metadata": {
        "id": "NCjHQSciThXE",
        "colab": {
          "base_uri": "https://localhost:8080/",
          "height": 369
        },
        "outputId": "fbee4cbf-2abd-4bc7-9818-10ba2b5e7b71"
      },
      "execution_count": 22,
      "outputs": [
        {
          "output_type": "execute_result",
          "data": {
            "image/png": "[encoded data removed]",
            "text/plain": [
              "<IPython.core.display.Image object>"
            ]
          },
          "metadata": {},
          "execution_count": 22
        }
      ]
    },
    {
      "cell_type": "code",
      "source": [
        "# Generating graph for Accuracy & Validation Accuracy \n",
        "plt.plot(hist.history['accuracy'])\n",
        "plt.plot(hist.history['val_accuracy'])\n",
        "plt.title('model accuracy')\n",
        "plt.ylabel('accuracy')\n",
        "plt.xlabel('epoch')\n",
        "plt.legend(['Train', 'Validation'], loc='upper left')\n",
        "plt.show()"
      ],
      "metadata": {
        "id": "vy7srYgD7k-g",
        "colab": {
          "base_uri": "https://localhost:8080/",
          "height": 295
        },
        "outputId": "5e731ec8-4a36-44bf-af1b-f042530fff32"
      },
      "execution_count": 23,
      "outputs": [
        {
          "output_type": "display_data",
          "data": {
            "text/plain": [
              "<Figure size 432x288 with 1 Axes>"
            ],
            "image/png": "[encoded data removed]"
          },
          "metadata": {
            "needs_background": "light"
          }
        }
      ]
    },
    {
      "cell_type": "code",
      "source": [
        "# Generating graph for Loss & Validation Loss \n",
        "plt.plot(hist.history['loss'])\n",
        "plt.plot(hist.history['val_loss'])\n",
        "plt.title('model loss')\n",
        "plt.ylabel('loss')\n",
        "plt.xlabel('epoch')\n",
        "plt.legend(['Train', 'Validation'], loc='upper left')\n",
        "plt.show()"
      ],
      "metadata": {
        "id": "5ebXLcJD7lCx",
        "colab": {
          "base_uri": "https://localhost:8080/",
          "height": 295
        },
        "outputId": "bfe781a7-95ad-4eeb-e84e-9d82e3fff3d6"
      },
      "execution_count": 24,
      "outputs": [
        {
          "output_type": "display_data",
          "data": {
            "text/plain": [
              "<Figure size 432x288 with 1 Axes>"
            ],
            "image/png": "[encoded data removed]"
          },
          "metadata": {
            "needs_background": "light"
          }
        }
      ]
    }
  ]
}